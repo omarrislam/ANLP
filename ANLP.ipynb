{
 "cells": [
  {
   "cell_type": "code",
   "execution_count": 3,
   "id": "05efacad",
   "metadata": {},
   "outputs": [],
   "source": [
    "# Load Our Dataset\n",
    "import pandas as pd\n",
    "import nltk\n",
    "import numpy as np\n",
    "import re\n",
    "from sklearn.feature_extraction.text import CountVectorizer\n",
    "from sklearn.feature_extraction.text import TfidfVectorizer\n",
    "import qalsadi.lemmatizer\n",
    "import time"
   ]
  },
  {
   "cell_type": "code",
   "execution_count": 5,
   "id": "9d25268a",
   "metadata": {
    "scrolled": true
   },
   "outputs": [
    {
     "data": {
      "text/html": [
       "<div>\n",
       "<style scoped>\n",
       "    .dataframe tbody tr th:only-of-type {\n",
       "        vertical-align: middle;\n",
       "    }\n",
       "\n",
       "    .dataframe tbody tr th {\n",
       "        vertical-align: top;\n",
       "    }\n",
       "\n",
       "    .dataframe thead th {\n",
       "        text-align: right;\n",
       "    }\n",
       "</style>\n",
       "<table border=\"1\" class=\"dataframe\">\n",
       "  <thead>\n",
       "    <tr style=\"text-align: right;\">\n",
       "      <th></th>\n",
       "      <th>sent</th>\n",
       "      <th>txt</th>\n",
       "    </tr>\n",
       "  </thead>\n",
       "  <tbody>\n",
       "    <tr>\n",
       "      <th>0</th>\n",
       "      <td>NaN</td>\n",
       "      <td>NaN</td>\n",
       "    </tr>\n",
       "    <tr>\n",
       "      <th>1</th>\n",
       "      <td>neg</td>\n",
       "      <td>#الاهلي_الهلال -تحت هذي التغريده تحدي روقان وا...</td>\n",
       "    </tr>\n",
       "    <tr>\n",
       "      <th>2</th>\n",
       "      <td>NaN</td>\n",
       "      <td>NaN</td>\n",
       "    </tr>\n",
       "    <tr>\n",
       "      <th>3</th>\n",
       "      <td>pos</td>\n",
       "      <td>صباح الخيرات يارب العالمين والصلاة على محمد وا...</td>\n",
       "    </tr>\n",
       "    <tr>\n",
       "      <th>4</th>\n",
       "      <td>NaN</td>\n",
       "      <td>NaN</td>\n",
       "    </tr>\n",
       "  </tbody>\n",
       "</table>\n",
       "</div>"
      ],
      "text/plain": [
       "  sent                                                txt\n",
       "0  NaN                                                NaN\n",
       "1  neg  #الاهلي_الهلال -تحت هذي التغريده تحدي روقان وا...\n",
       "2  NaN                                                NaN\n",
       "3  pos  صباح الخيرات يارب العالمين والصلاة على محمد وا...\n",
       "4  NaN                                                NaN"
      ]
     },
     "execution_count": 5,
     "metadata": {},
     "output_type": "execute_result"
    }
   ],
   "source": [
    "#  data cleaning \n",
    "data=pd.read_excel('ar spam.xlsx')\n",
    "data.head() \n"
   ]
  },
  {
   "cell_type": "code",
   "execution_count": 6,
   "id": "674c509d",
   "metadata": {},
   "outputs": [],
   "source": [
    "#Removing Empty fields\n",
    "data = data.dropna()"
   ]
  },
  {
   "cell_type": "code",
   "execution_count": 7,
   "id": "2384884f",
   "metadata": {},
   "outputs": [
    {
     "data": {
      "text/html": [
       "<div>\n",
       "<style scoped>\n",
       "    .dataframe tbody tr th:only-of-type {\n",
       "        vertical-align: middle;\n",
       "    }\n",
       "\n",
       "    .dataframe tbody tr th {\n",
       "        vertical-align: top;\n",
       "    }\n",
       "\n",
       "    .dataframe thead th {\n",
       "        text-align: right;\n",
       "    }\n",
       "</style>\n",
       "<table border=\"1\" class=\"dataframe\">\n",
       "  <thead>\n",
       "    <tr style=\"text-align: right;\">\n",
       "      <th></th>\n",
       "      <th>sent</th>\n",
       "      <th>txt</th>\n",
       "    </tr>\n",
       "  </thead>\n",
       "  <tbody>\n",
       "    <tr>\n",
       "      <th>1</th>\n",
       "      <td>neg</td>\n",
       "      <td>#الاهلي_الهلال -تحت هذي التغريده تحدي روقان وا...</td>\n",
       "    </tr>\n",
       "    <tr>\n",
       "      <th>3</th>\n",
       "      <td>pos</td>\n",
       "      <td>صباح الخيرات يارب العالمين والصلاة على محمد وا...</td>\n",
       "    </tr>\n",
       "    <tr>\n",
       "      <th>5</th>\n",
       "      <td>mix</td>\n",
       "      <td>😂😂 فكري بعد ما بغير اسمي 😕 هذا عمر يجيب هالبلا...</td>\n",
       "    </tr>\n",
       "    <tr>\n",
       "      <th>7</th>\n",
       "      <td>neg</td>\n",
       "      <td>ذكرتك يوم أمطرت دارك وأنا بعيد وهلت دموعي على ...</td>\n",
       "    </tr>\n",
       "    <tr>\n",
       "      <th>9</th>\n",
       "      <td>neg</td>\n",
       "      <td>بس باقي انتظر الاذان وانام 😭</td>\n",
       "    </tr>\n",
       "  </tbody>\n",
       "</table>\n",
       "</div>"
      ],
      "text/plain": [
       "  sent                                                txt\n",
       "1  neg  #الاهلي_الهلال -تحت هذي التغريده تحدي روقان وا...\n",
       "3  pos  صباح الخيرات يارب العالمين والصلاة على محمد وا...\n",
       "5  mix  😂😂 فكري بعد ما بغير اسمي 😕 هذا عمر يجيب هالبلا...\n",
       "7  neg  ذكرتك يوم أمطرت دارك وأنا بعيد وهلت دموعي على ...\n",
       "9  neg                       بس باقي انتظر الاذان وانام 😭"
      ]
     },
     "execution_count": 7,
     "metadata": {},
     "output_type": "execute_result"
    }
   ],
   "source": [
    "data.head()"
   ]
  },
  {
   "cell_type": "code",
   "execution_count": 8,
   "id": "8ab4dd17",
   "metadata": {},
   "outputs": [
    {
     "data": {
      "text/html": [
       "<div>\n",
       "<style scoped>\n",
       "    .dataframe tbody tr th:only-of-type {\n",
       "        vertical-align: middle;\n",
       "    }\n",
       "\n",
       "    .dataframe tbody tr th {\n",
       "        vertical-align: top;\n",
       "    }\n",
       "\n",
       "    .dataframe thead th {\n",
       "        text-align: right;\n",
       "    }\n",
       "</style>\n",
       "<table border=\"1\" class=\"dataframe\">\n",
       "  <thead>\n",
       "    <tr style=\"text-align: right;\">\n",
       "      <th></th>\n",
       "      <th>sent</th>\n",
       "      <th>txt</th>\n",
       "    </tr>\n",
       "  </thead>\n",
       "  <tbody>\n",
       "    <tr>\n",
       "      <th>1</th>\n",
       "      <td>neg</td>\n",
       "      <td>#الاهلي_الهلال -تحت هذي التغريده تحدي روقان وا...</td>\n",
       "    </tr>\n",
       "    <tr>\n",
       "      <th>3</th>\n",
       "      <td>pos</td>\n",
       "      <td>صباح الخيرات يارب العالمين والصلاة على محمد وا...</td>\n",
       "    </tr>\n",
       "    <tr>\n",
       "      <th>7</th>\n",
       "      <td>neg</td>\n",
       "      <td>ذكرتك يوم أمطرت دارك وأنا بعيد وهلت دموعي على ...</td>\n",
       "    </tr>\n",
       "    <tr>\n",
       "      <th>9</th>\n",
       "      <td>neg</td>\n",
       "      <td>بس باقي انتظر الاذان وانام 😭</td>\n",
       "    </tr>\n",
       "    <tr>\n",
       "      <th>11</th>\n",
       "      <td>neg</td>\n",
       "      <td>تلاتين سنة بترقص .. الليلة رقصتنا أنا ببكي 😭 د...</td>\n",
       "    </tr>\n",
       "  </tbody>\n",
       "</table>\n",
       "</div>"
      ],
      "text/plain": [
       "   sent                                                txt\n",
       "1   neg  #الاهلي_الهلال -تحت هذي التغريده تحدي روقان وا...\n",
       "3   pos  صباح الخيرات يارب العالمين والصلاة على محمد وا...\n",
       "7   neg  ذكرتك يوم أمطرت دارك وأنا بعيد وهلت دموعي على ...\n",
       "9   neg                       بس باقي انتظر الاذان وانام 😭\n",
       "11  neg  تلاتين سنة بترقص .. الليلة رقصتنا أنا ببكي 😭 د..."
      ]
     },
     "execution_count": 8,
     "metadata": {},
     "output_type": "execute_result"
    }
   ],
   "source": [
    "#Removing the mix rows\n",
    "data = data[data[\"sent\"].str.contains(\"mix\") == False]\n",
    "data.head()"
   ]
  },
  {
   "cell_type": "code",
   "execution_count": 10,
   "id": "2f89b326",
   "metadata": {},
   "outputs": [],
   "source": [
    "# method to remove emoji's\n",
    "\n",
    "def remove_emoji(text):\n",
    "    non_arabic_char = re.compile('[^\\s\\\\u0600-\\u06FF]')\n",
    "    text_with_no_spaces = re.sub(non_arabic_char, \"\", text)\n",
    "    text_with_single_spaces = \" \".join(re.split(\"\\s+\", text_with_no_spaces))\n",
    "    \n",
    "    return text_with_single_spaces"
   ]
  },
  {
   "cell_type": "code",
   "execution_count": 11,
   "id": "fa2f3899",
   "metadata": {},
   "outputs": [
    {
     "data": {
      "text/html": [
       "<div>\n",
       "<style scoped>\n",
       "    .dataframe tbody tr th:only-of-type {\n",
       "        vertical-align: middle;\n",
       "    }\n",
       "\n",
       "    .dataframe tbody tr th {\n",
       "        vertical-align: top;\n",
       "    }\n",
       "\n",
       "    .dataframe thead th {\n",
       "        text-align: right;\n",
       "    }\n",
       "</style>\n",
       "<table border=\"1\" class=\"dataframe\">\n",
       "  <thead>\n",
       "    <tr style=\"text-align: right;\">\n",
       "      <th></th>\n",
       "      <th>sent</th>\n",
       "      <th>txt</th>\n",
       "    </tr>\n",
       "  </thead>\n",
       "  <tbody>\n",
       "    <tr>\n",
       "      <th>1</th>\n",
       "      <td>neg</td>\n",
       "      <td>الاهليالهلال تحت هذي التغريده تحدي روقان واسرع...</td>\n",
       "    </tr>\n",
       "    <tr>\n",
       "      <th>3</th>\n",
       "      <td>pos</td>\n",
       "      <td>صباح الخيرات يارب العالمين والصلاة على محمد وا...</td>\n",
       "    </tr>\n",
       "    <tr>\n",
       "      <th>7</th>\n",
       "      <td>neg</td>\n",
       "      <td>ذكرتك يوم أمطرت دارك وأنا بعيد وهلت دموعي على ...</td>\n",
       "    </tr>\n",
       "    <tr>\n",
       "      <th>9</th>\n",
       "      <td>neg</td>\n",
       "      <td>بس باقي انتظر الاذان وانام</td>\n",
       "    </tr>\n",
       "    <tr>\n",
       "      <th>11</th>\n",
       "      <td>neg</td>\n",
       "      <td>تلاتين سنة بترقص الليلة رقصتنا أنا ببكي دي حلا...</td>\n",
       "    </tr>\n",
       "  </tbody>\n",
       "</table>\n",
       "</div>"
      ],
      "text/plain": [
       "   sent                                                txt\n",
       "1   neg  الاهليالهلال تحت هذي التغريده تحدي روقان واسرع...\n",
       "3   pos  صباح الخيرات يارب العالمين والصلاة على محمد وا...\n",
       "7   neg  ذكرتك يوم أمطرت دارك وأنا بعيد وهلت دموعي على ...\n",
       "9   neg                        بس باقي انتظر الاذان وانام \n",
       "11  neg  تلاتين سنة بترقص الليلة رقصتنا أنا ببكي دي حلا..."
      ]
     },
     "execution_count": 11,
     "metadata": {},
     "output_type": "execute_result"
    }
   ],
   "source": [
    "data[\"txt\"]=data[\"txt\"].map(remove_emoji) #map each row with remove_emoji's function\n",
    "data.head()"
   ]
  },
  {
   "cell_type": "code",
   "execution_count": 18,
   "id": "a3c65c91",
   "metadata": {},
   "outputs": [],
   "source": [
    "def tokenize_text(inp):\n",
    "    return nltk.tokenize.wordpunct_tokenize(inp)\n",
    "data_txt = data.txt.apply(lambda sentence: nltk.tokenize.wordpunct_tokenize(sentence))"
   ]
  },
  {
   "cell_type": "code",
   "execution_count": 19,
   "id": "d66994b1",
   "metadata": {},
   "outputs": [
    {
     "data": {
      "text/html": [
       "<div>\n",
       "<style scoped>\n",
       "    .dataframe tbody tr th:only-of-type {\n",
       "        vertical-align: middle;\n",
       "    }\n",
       "\n",
       "    .dataframe tbody tr th {\n",
       "        vertical-align: top;\n",
       "    }\n",
       "\n",
       "    .dataframe thead th {\n",
       "        text-align: right;\n",
       "    }\n",
       "</style>\n",
       "<table border=\"1\" class=\"dataframe\">\n",
       "  <thead>\n",
       "    <tr style=\"text-align: right;\">\n",
       "      <th></th>\n",
       "      <th>sent</th>\n",
       "      <th>txt</th>\n",
       "    </tr>\n",
       "  </thead>\n",
       "  <tbody>\n",
       "    <tr>\n",
       "      <th>1</th>\n",
       "      <td>neg</td>\n",
       "      <td>[الاهليالهلال, تحت, هذي, التغريده, تحدي, روقان...</td>\n",
       "    </tr>\n",
       "    <tr>\n",
       "      <th>3</th>\n",
       "      <td>pos</td>\n",
       "      <td>[صباح, الخيرات, يارب, العالمين, والصلاة, على, ...</td>\n",
       "    </tr>\n",
       "    <tr>\n",
       "      <th>7</th>\n",
       "      <td>neg</td>\n",
       "      <td>[ذكرتك, يوم, أمطرت, دارك, وأنا, بعيد, وهلت, دم...</td>\n",
       "    </tr>\n",
       "    <tr>\n",
       "      <th>9</th>\n",
       "      <td>neg</td>\n",
       "      <td>[بس, باقي, انتظر, الاذان, وانام]</td>\n",
       "    </tr>\n",
       "    <tr>\n",
       "      <th>11</th>\n",
       "      <td>neg</td>\n",
       "      <td>[تلاتين, سنة, بترقص, الليلة, رقصتنا, أنا, ببكي...</td>\n",
       "    </tr>\n",
       "  </tbody>\n",
       "</table>\n",
       "</div>"
      ],
      "text/plain": [
       "   sent                                                txt\n",
       "1   neg  [الاهليالهلال, تحت, هذي, التغريده, تحدي, روقان...\n",
       "3   pos  [صباح, الخيرات, يارب, العالمين, والصلاة, على, ...\n",
       "7   neg  [ذكرتك, يوم, أمطرت, دارك, وأنا, بعيد, وهلت, دم...\n",
       "9   neg                   [بس, باقي, انتظر, الاذان, وانام]\n",
       "11  neg  [تلاتين, سنة, بترقص, الليلة, رقصتنا, أنا, ببكي..."
      ]
     },
     "execution_count": 19,
     "metadata": {},
     "output_type": "execute_result"
    }
   ],
   "source": [
    "data.txt = data.txt.apply(lambda sentence: nltk.tokenize.wordpunct_tokenize(sentence))\n",
    "data.head()\n"
   ]
  },
  {
   "cell_type": "code",
   "execution_count": 20,
   "id": "364f62e0",
   "metadata": {},
   "outputs": [],
   "source": [
    "def stopword_removal(inp):\n",
    "    arb_stopwords = set(nltk.corpus.stopwords.words(\"arabic\"))\n",
    "    for i in inp:\n",
    "        if i in arb_stopwords:\n",
    "            inp.remove(i)\n",
    "\n",
    "    return inp"
   ]
  },
  {
   "cell_type": "code",
   "execution_count": 21,
   "id": "eaa6dd79",
   "metadata": {
    "scrolled": true
   },
   "outputs": [],
   "source": [
    "data.txt=data[\"txt\"].map(stopword_removal)"
   ]
  },
  {
   "cell_type": "code",
   "execution_count": 22,
   "id": "48846a70",
   "metadata": {},
   "outputs": [
    {
     "data": {
      "text/html": [
       "<div>\n",
       "<style scoped>\n",
       "    .dataframe tbody tr th:only-of-type {\n",
       "        vertical-align: middle;\n",
       "    }\n",
       "\n",
       "    .dataframe tbody tr th {\n",
       "        vertical-align: top;\n",
       "    }\n",
       "\n",
       "    .dataframe thead th {\n",
       "        text-align: right;\n",
       "    }\n",
       "</style>\n",
       "<table border=\"1\" class=\"dataframe\">\n",
       "  <thead>\n",
       "    <tr style=\"text-align: right;\">\n",
       "      <th></th>\n",
       "      <th>sent</th>\n",
       "      <th>txt</th>\n",
       "    </tr>\n",
       "  </thead>\n",
       "  <tbody>\n",
       "    <tr>\n",
       "      <th>1</th>\n",
       "      <td>neg</td>\n",
       "      <td>[الاهليالهلال, هذي, التغريده, تحدي, روقان, واس...</td>\n",
       "    </tr>\n",
       "    <tr>\n",
       "      <th>3</th>\n",
       "      <td>pos</td>\n",
       "      <td>[الخيرات, يارب, العالمين, والصلاة, محمد, وال, ...</td>\n",
       "    </tr>\n",
       "    <tr>\n",
       "      <th>7</th>\n",
       "      <td>neg</td>\n",
       "      <td>[ذكرتك, يوم, أمطرت, دارك, وأنا, بعيد, وهلت, دم...</td>\n",
       "    </tr>\n",
       "    <tr>\n",
       "      <th>9</th>\n",
       "      <td>neg</td>\n",
       "      <td>[باقي, انتظر, الاذان, وانام]</td>\n",
       "    </tr>\n",
       "    <tr>\n",
       "      <th>11</th>\n",
       "      <td>neg</td>\n",
       "      <td>[تلاتين, سنة, بترقص, الليلة, رقصتنا, ببكي, دي,...</td>\n",
       "    </tr>\n",
       "  </tbody>\n",
       "</table>\n",
       "</div>"
      ],
      "text/plain": [
       "   sent                                                txt\n",
       "1   neg  [الاهليالهلال, هذي, التغريده, تحدي, روقان, واس...\n",
       "3   pos  [الخيرات, يارب, العالمين, والصلاة, محمد, وال, ...\n",
       "7   neg  [ذكرتك, يوم, أمطرت, دارك, وأنا, بعيد, وهلت, دم...\n",
       "9   neg                       [باقي, انتظر, الاذان, وانام]\n",
       "11  neg  [تلاتين, سنة, بترقص, الليلة, رقصتنا, ببكي, دي,..."
      ]
     },
     "execution_count": 22,
     "metadata": {},
     "output_type": "execute_result"
    }
   ],
   "source": [
    "data.head()\n"
   ]
  },
  {
   "cell_type": "code",
   "execution_count": 23,
   "id": "c01756c5",
   "metadata": {},
   "outputs": [],
   "source": [
    "stemmer=nltk.ISRIStemmer()\n"
   ]
  },
  {
   "cell_type": "code",
   "execution_count": 25,
   "id": "92b2330e",
   "metadata": {},
   "outputs": [],
   "source": [
    "def stem(text):\n",
    "    out=[]\n",
    "    for i in text:\n",
    "        out.append(stemmer.stem(i))\n",
    "            \n",
    "    return out"
   ]
  },
  {
   "cell_type": "code",
   "execution_count": 26,
   "id": "30c38c08",
   "metadata": {},
   "outputs": [
    {
     "name": "stdout",
     "output_type": "stream",
     "text": [
      "--------  3.625319480895996  Secounds --------\n"
     ]
    }
   ],
   "source": [
    "start_time=time.time()\n",
    "#data.txt.map(stem)\n",
    "\n",
    "data.txt=data.txt.map(stem)\n",
    "print(\"-------- \",(time.time() - start_time),' Secounds --------')"
   ]
  },
  {
   "cell_type": "code",
   "execution_count": 27,
   "id": "36653254",
   "metadata": {},
   "outputs": [
    {
     "data": {
      "text/html": [
       "<div>\n",
       "<style scoped>\n",
       "    .dataframe tbody tr th:only-of-type {\n",
       "        vertical-align: middle;\n",
       "    }\n",
       "\n",
       "    .dataframe tbody tr th {\n",
       "        vertical-align: top;\n",
       "    }\n",
       "\n",
       "    .dataframe thead th {\n",
       "        text-align: right;\n",
       "    }\n",
       "</style>\n",
       "<table border=\"1\" class=\"dataframe\">\n",
       "  <thead>\n",
       "    <tr style=\"text-align: right;\">\n",
       "      <th></th>\n",
       "      <th>sent</th>\n",
       "      <th>txt</th>\n",
       "    </tr>\n",
       "  </thead>\n",
       "  <tbody>\n",
       "    <tr>\n",
       "      <th>1</th>\n",
       "      <td>neg</td>\n",
       "      <td>[اهليالهلال, هذي, غرد, تحد, روق, سرع, اذا, فاز...</td>\n",
       "    </tr>\n",
       "    <tr>\n",
       "      <th>3</th>\n",
       "      <td>pos</td>\n",
       "      <td>[خير, يرب, علم, صلة, حمد, وال, حمد]</td>\n",
       "    </tr>\n",
       "    <tr>\n",
       "      <th>7</th>\n",
       "      <td>neg</td>\n",
       "      <td>[ذكر, يوم, مطر, درك, وأن, بعد, وهل, دمع, لخد, ...</td>\n",
       "    </tr>\n",
       "    <tr>\n",
       "      <th>9</th>\n",
       "      <td>neg</td>\n",
       "      <td>[بقي, نظر, اذن, انم]</td>\n",
       "    </tr>\n",
       "    <tr>\n",
       "      <th>11</th>\n",
       "      <td>neg</td>\n",
       "      <td>[تلا, سنة, رقص, ليل, رقص, ببك, دي, حلو, شدد, باخ]</td>\n",
       "    </tr>\n",
       "  </tbody>\n",
       "</table>\n",
       "</div>"
      ],
      "text/plain": [
       "   sent                                                txt\n",
       "1   neg  [اهليالهلال, هذي, غرد, تحد, روق, سرع, اذا, فاز...\n",
       "3   pos                [خير, يرب, علم, صلة, حمد, وال, حمد]\n",
       "7   neg  [ذكر, يوم, مطر, درك, وأن, بعد, وهل, دمع, لخد, ...\n",
       "9   neg                               [بقي, نظر, اذن, انم]\n",
       "11  neg  [تلا, سنة, رقص, ليل, رقص, ببك, دي, حلو, شدد, باخ]"
      ]
     },
     "execution_count": 27,
     "metadata": {},
     "output_type": "execute_result"
    }
   ],
   "source": [
    "data.head()"
   ]
  },
  {
   "cell_type": "code",
   "execution_count": 28,
   "id": "9d9292dc",
   "metadata": {},
   "outputs": [],
   "source": [
    "import qalsadi.lemmatizer\n",
    "lemmatizer = qalsadi.lemmatizer.Lemmatizer()"
   ]
  },
  {
   "cell_type": "code",
   "execution_count": 29,
   "id": "5382969b",
   "metadata": {},
   "outputs": [],
   "source": [
    "def lemmatize(text):\n",
    "    out=[]\n",
    "    for i in text:\n",
    "        out.append(lemmatizer.lemmatize(i))\n",
    "\n",
    "    return out"
   ]
  },
  {
   "cell_type": "code",
   "execution_count": 30,
   "id": "d8ca89a2",
   "metadata": {},
   "outputs": [
    {
     "name": "stdout",
     "output_type": "stream",
     "text": [
      "--------  0.0  Secounds --------\n"
     ]
    }
   ],
   "source": [
    "start_time=time.time()\n",
    "\n",
    "#data.txt.map(lemmatize).head\n",
    "#data.txt=data.txt.map(lemmatize)\n",
    "\n",
    "print(\"-------- \",(time.time() - start_time),' Secounds --------')"
   ]
  },
  {
   "cell_type": "code",
   "execution_count": 22,
   "id": "7a7a0ab3",
   "metadata": {},
   "outputs": [],
   "source": [
    "# convert class labels to  Bad and  Good values\n",
    "\n",
    "def decoder(arr):\n",
    "    out=list()\n",
    "    binary_list=list(arr)\n",
    "    for item in binary_list:\n",
    "        if item == 0:\n",
    "            out.append('bad')\n",
    "        else:\n",
    "            out.append('good')\n",
    "    return out"
   ]
  },
  {
   "cell_type": "code",
   "execution_count": 32,
   "id": "c6c99fe2",
   "metadata": {},
   "outputs": [],
   "source": [
    "def join_txt(txt):\n",
    "    \n",
    "    return \" \".join(txt)"
   ]
  },
  {
   "cell_type": "code",
   "execution_count": 33,
   "id": "f71de6fb",
   "metadata": {},
   "outputs": [
    {
     "data": {
      "text/html": [
       "<div>\n",
       "<style scoped>\n",
       "    .dataframe tbody tr th:only-of-type {\n",
       "        vertical-align: middle;\n",
       "    }\n",
       "\n",
       "    .dataframe tbody tr th {\n",
       "        vertical-align: top;\n",
       "    }\n",
       "\n",
       "    .dataframe thead th {\n",
       "        text-align: right;\n",
       "    }\n",
       "</style>\n",
       "<table border=\"1\" class=\"dataframe\">\n",
       "  <thead>\n",
       "    <tr style=\"text-align: right;\">\n",
       "      <th></th>\n",
       "      <th>sent</th>\n",
       "      <th>txt</th>\n",
       "    </tr>\n",
       "  </thead>\n",
       "  <tbody>\n",
       "    <tr>\n",
       "      <th>1</th>\n",
       "      <td>neg</td>\n",
       "      <td>اهليالهلال هذي غرد تحد روق سرع اذا فاز هلل ان ...</td>\n",
       "    </tr>\n",
       "    <tr>\n",
       "      <th>3</th>\n",
       "      <td>pos</td>\n",
       "      <td>خير يرب علم صلة حمد وال حمد</td>\n",
       "    </tr>\n",
       "    <tr>\n",
       "      <th>7</th>\n",
       "      <td>neg</td>\n",
       "      <td>ذكر يوم مطر درك وأن بعد وهل دمع لخد عبر قلم جد...</td>\n",
       "    </tr>\n",
       "    <tr>\n",
       "      <th>9</th>\n",
       "      <td>neg</td>\n",
       "      <td>بقي نظر اذن انم</td>\n",
       "    </tr>\n",
       "    <tr>\n",
       "      <th>11</th>\n",
       "      <td>neg</td>\n",
       "      <td>تلا سنة رقص ليل رقص ببك دي حلو شدد باخ</td>\n",
       "    </tr>\n",
       "  </tbody>\n",
       "</table>\n",
       "</div>"
      ],
      "text/plain": [
       "   sent                                                txt\n",
       "1   neg  اهليالهلال هذي غرد تحد روق سرع اذا فاز هلل ان ...\n",
       "3   pos                        خير يرب علم صلة حمد وال حمد\n",
       "7   neg  ذكر يوم مطر درك وأن بعد وهل دمع لخد عبر قلم جد...\n",
       "9   neg                                    بقي نظر اذن انم\n",
       "11  neg             تلا سنة رقص ليل رقص ببك دي حلو شدد باخ"
      ]
     },
     "execution_count": 33,
     "metadata": {},
     "output_type": "execute_result"
    }
   ],
   "source": [
    "data.txt=data.txt.map(join_txt)\n",
    "data.head()"
   ]
  },
  {
   "cell_type": "code",
   "execution_count": 38,
   "id": "d92be846",
   "metadata": {},
   "outputs": [],
   "source": [
    "# Feature extaction using Counter\n",
    "bag_of_words_vectorizer=CountVectorizer() \n",
    "bag_of_words_count = bag_of_words_vectorizer.fit_transform(data[\"txt\"])"
   ]
  },
  {
   "cell_type": "code",
   "execution_count": 39,
   "id": "c761e11a",
   "metadata": {},
   "outputs": [],
   "source": [
    "from sklearn.model_selection import train_test_split\n",
    "x_train_count, x_test_count, y_train_count, y_test_count = train_test_split(bag_of_words_count, data['sent'], random_state=42, test_size=0.25)"
   ]
  },
  {
   "cell_type": "code",
   "execution_count": 40,
   "id": "aae97bee",
   "metadata": {},
   "outputs": [],
   "source": [
    "from sklearn.naive_bayes import MultinomialNB\n",
    "from sklearn.metrics import classification_report, accuracy_score, confusion_matrix,f1_score"
   ]
  },
  {
   "cell_type": "code",
   "execution_count": 41,
   "id": "3719240c",
   "metadata": {},
   "outputs": [],
   "source": [
    "model_count=MultinomialNB()"
   ]
  },
  {
   "cell_type": "code",
   "execution_count": 42,
   "id": "627fc088",
   "metadata": {},
   "outputs": [
    {
     "data": {
      "text/plain": [
       "array(['pos', 'pos', 'neg', ..., 'pos', 'pos', 'neg'], dtype='<U3')"
      ]
     },
     "execution_count": 42,
     "metadata": {},
     "output_type": "execute_result"
    }
   ],
   "source": [
    "model_count.fit(x_train_count,y_train_count)\n",
    "pred = model_count.predict(x_test_count)\n",
    "pred"
   ]
  },
  {
   "cell_type": "code",
   "execution_count": 43,
   "id": "44b08261",
   "metadata": {},
   "outputs": [
    {
     "name": "stdout",
     "output_type": "stream",
     "text": [
      "Model  had Trained and it's Accuracy:  0.7473684210526316\n"
     ]
    }
   ],
   "source": [
    "accuracy = accuracy_score(y_test_count,pred) \n",
    "print(\"Model  had Trained and it's Accuracy: \", accuracy )"
   ]
  },
  {
   "cell_type": "code",
   "execution_count": 31,
   "id": "c2f76cfc",
   "metadata": {},
   "outputs": [
    {
     "name": "stdout",
     "output_type": "stream",
     "text": [
      "              precision    recall  f1-score   support\n",
      "\n",
      "         neg       0.73      0.75      0.74      6893\n",
      "         pos       0.76      0.75      0.75      7452\n",
      "\n",
      "    accuracy                           0.75     14345\n",
      "   macro avg       0.75      0.75      0.75     14345\n",
      "weighted avg       0.75      0.75      0.75     14345\n",
      "\n"
     ]
    }
   ],
   "source": [
    "print(classification_report(y_test_count, pred))\n"
   ]
  },
  {
   "cell_type": "code",
   "execution_count": 32,
   "id": "854b4cc9",
   "metadata": {},
   "outputs": [
    {
     "name": "stdout",
     "output_type": "stream",
     "text": [
      "[[5169 1724]\n",
      " [1900 5552]]\n"
     ]
    }
   ],
   "source": [
    "print(confusion_matrix(y_test_count, pred))"
   ]
  },
  {
   "cell_type": "code",
   "execution_count": 44,
   "id": "d494e37b",
   "metadata": {},
   "outputs": [
    {
     "name": "stdout",
     "output_type": "stream",
     "text": [
      "              precision    recall  f1-score   support\n",
      "\n",
      "         neg       0.73      0.75      0.74      6893\n",
      "         pos       0.76      0.75      0.75      7452\n",
      "\n",
      "    accuracy                           0.75     14345\n",
      "   macro avg       0.75      0.75      0.75     14345\n",
      "weighted avg       0.75      0.75      0.75     14345\n",
      "\n"
     ]
    },
    {
     "data": {
      "text/html": [
       "<div>\n",
       "<style scoped>\n",
       "    .dataframe tbody tr th:only-of-type {\n",
       "        vertical-align: middle;\n",
       "    }\n",
       "\n",
       "    .dataframe tbody tr th {\n",
       "        vertical-align: top;\n",
       "    }\n",
       "\n",
       "    .dataframe thead tr th {\n",
       "        text-align: left;\n",
       "    }\n",
       "</style>\n",
       "<table border=\"1\" class=\"dataframe\">\n",
       "  <thead>\n",
       "    <tr>\n",
       "      <th></th>\n",
       "      <th></th>\n",
       "      <th colspan=\"2\" halign=\"left\">predicted</th>\n",
       "    </tr>\n",
       "    <tr>\n",
       "      <th></th>\n",
       "      <th></th>\n",
       "      <th>bad</th>\n",
       "      <th>good</th>\n",
       "    </tr>\n",
       "  </thead>\n",
       "  <tbody>\n",
       "    <tr>\n",
       "      <th rowspan=\"2\" valign=\"top\">actual</th>\n",
       "      <th>bad</th>\n",
       "      <td>5169</td>\n",
       "      <td>1724</td>\n",
       "    </tr>\n",
       "    <tr>\n",
       "      <th>good</th>\n",
       "      <td>1900</td>\n",
       "      <td>5552</td>\n",
       "    </tr>\n",
       "  </tbody>\n",
       "</table>\n",
       "</div>"
      ],
      "text/plain": [
       "            predicted      \n",
       "                  bad  good\n",
       "actual bad       5169  1724\n",
       "       good      1900  5552"
      ]
     },
     "execution_count": 44,
     "metadata": {},
     "output_type": "execute_result"
    }
   ],
   "source": [
    "print(classification_report(y_test_count, pred))\n",
    "\n",
    "pd.DataFrame(\n",
    "    confusion_matrix(y_test_count, pred),\n",
    "    index = [['actual', 'actual'], ['bad', 'good']],\n",
    "    columns = [['predicted', 'predicted'], ['bad', 'good']])"
   ]
  },
  {
   "cell_type": "code",
   "execution_count": 45,
   "id": "4806c506",
   "metadata": {},
   "outputs": [],
   "source": [
    "#Binary Encoding\n",
    "bag_of_words_vectorizer_binary=CountVectorizer(binary=True) \n",
    "bag_of_words_binary = bag_of_words_vectorizer_binary.fit_transform(data[\"txt\"])"
   ]
  },
  {
   "cell_type": "code",
   "execution_count": 46,
   "id": "e16036ca",
   "metadata": {},
   "outputs": [],
   "source": [
    "# data set between train and test 0.25 : 0.75\n",
    "x_train_bin, x_test_bin, y_train_bin, y_test_bin = train_test_split(bag_of_words_binary, data['sent'], random_state=42, test_size=0.25)\n"
   ]
  },
  {
   "cell_type": "code",
   "execution_count": 47,
   "id": "9280f7db",
   "metadata": {},
   "outputs": [],
   "source": [
    "# object from Naiv Base\n",
    "model_bin=MultinomialNB()"
   ]
  },
  {
   "cell_type": "code",
   "execution_count": 48,
   "id": "effe0423",
   "metadata": {},
   "outputs": [
    {
     "data": {
      "text/plain": [
       "array(['pos', 'pos', 'neg', ..., 'pos', 'pos', 'neg'], dtype='<U3')"
      ]
     },
     "execution_count": 48,
     "metadata": {},
     "output_type": "execute_result"
    }
   ],
   "source": [
    "# train model \n",
    "model_bin.fit(x_train_bin,y_train_bin)\n",
    "# test  model\n",
    "pred_bin = model_bin.predict(x_test_bin)\n",
    "pred_bin"
   ]
  },
  {
   "cell_type": "code",
   "execution_count": 49,
   "id": "8656493a",
   "metadata": {},
   "outputs": [
    {
     "name": "stdout",
     "output_type": "stream",
     "text": [
      "Model  had Trained and it's Accuracy:  0.744719414430115\n"
     ]
    }
   ],
   "source": [
    "# accuracy precison\n",
    "accuracy = accuracy_score(y_test_bin,pred_bin) \n",
    "print(\"Model  had Trained and it's Accuracy: \", accuracy )\n"
   ]
  },
  {
   "cell_type": "code",
   "execution_count": 50,
   "id": "e2f4fadf",
   "metadata": {},
   "outputs": [
    {
     "name": "stdout",
     "output_type": "stream",
     "text": [
      "              precision    recall  f1-score   support\n",
      "\n",
      "         neg       0.73      0.75      0.74      6893\n",
      "         pos       0.76      0.74      0.75      7452\n",
      "\n",
      "    accuracy                           0.74     14345\n",
      "   macro avg       0.74      0.74      0.74     14345\n",
      "weighted avg       0.75      0.74      0.74     14345\n",
      "\n"
     ]
    }
   ],
   "source": [
    "# our report about model after train and test \n",
    "print(classification_report(y_test_bin, pred_bin))\n"
   ]
  },
  {
   "cell_type": "code",
   "execution_count": 51,
   "id": "0ddf65fa",
   "metadata": {},
   "outputs": [
    {
     "name": "stdout",
     "output_type": "stream",
     "text": [
      "[[5156 1737]\n",
      " [1925 5527]]\n"
     ]
    }
   ],
   "source": [
    "# confusion_matrix\n",
    "print(confusion_matrix(y_test_bin, pred_bin))"
   ]
  },
  {
   "cell_type": "code",
   "execution_count": 52,
   "id": "5966e628",
   "metadata": {},
   "outputs": [
    {
     "name": "stdout",
     "output_type": "stream",
     "text": [
      "              precision    recall  f1-score   support\n",
      "\n",
      "         neg       0.73      0.75      0.74      6893\n",
      "         pos       0.76      0.74      0.75      7452\n",
      "\n",
      "    accuracy                           0.74     14345\n",
      "   macro avg       0.74      0.74      0.74     14345\n",
      "weighted avg       0.75      0.74      0.74     14345\n",
      "\n"
     ]
    },
    {
     "data": {
      "text/html": [
       "<div>\n",
       "<style scoped>\n",
       "    .dataframe tbody tr th:only-of-type {\n",
       "        vertical-align: middle;\n",
       "    }\n",
       "\n",
       "    .dataframe tbody tr th {\n",
       "        vertical-align: top;\n",
       "    }\n",
       "\n",
       "    .dataframe thead tr th {\n",
       "        text-align: left;\n",
       "    }\n",
       "</style>\n",
       "<table border=\"1\" class=\"dataframe\">\n",
       "  <thead>\n",
       "    <tr>\n",
       "      <th></th>\n",
       "      <th></th>\n",
       "      <th colspan=\"2\" halign=\"left\">predicted</th>\n",
       "    </tr>\n",
       "    <tr>\n",
       "      <th></th>\n",
       "      <th></th>\n",
       "      <th>bad</th>\n",
       "      <th>good</th>\n",
       "    </tr>\n",
       "  </thead>\n",
       "  <tbody>\n",
       "    <tr>\n",
       "      <th rowspan=\"2\" valign=\"top\">actual</th>\n",
       "      <th>bad</th>\n",
       "      <td>5156</td>\n",
       "      <td>1737</td>\n",
       "    </tr>\n",
       "    <tr>\n",
       "      <th>good</th>\n",
       "      <td>1925</td>\n",
       "      <td>5527</td>\n",
       "    </tr>\n",
       "  </tbody>\n",
       "</table>\n",
       "</div>"
      ],
      "text/plain": [
       "            predicted      \n",
       "                  bad  good\n",
       "actual bad       5156  1737\n",
       "       good      1925  5527"
      ]
     },
     "execution_count": 52,
     "metadata": {},
     "output_type": "execute_result"
    }
   ],
   "source": [
    "# true fasle\n",
    "print(classification_report(y_test_bin, pred_bin))\n",
    "\n",
    "pd.DataFrame(\n",
    "    confusion_matrix(y_test_bin, pred_bin),\n",
    "    index = [['actual', 'actual'], ['bad', 'good']],\n",
    "    columns = [['predicted', 'predicted'], ['bad', 'good']])"
   ]
  },
  {
   "cell_type": "code",
   "execution_count": 53,
   "id": "9a82b022",
   "metadata": {},
   "outputs": [],
   "source": [
    "#Feature extraction using TF-IDF\n",
    "\n",
    "vectorizer = TfidfVectorizer()\n",
    "bag_of_words_tfidf=vectorizer.fit_transform(data[\"txt\"])"
   ]
  },
  {
   "cell_type": "code",
   "execution_count": 54,
   "id": "86fa9e3a",
   "metadata": {},
   "outputs": [],
   "source": [
    "# data set between train and test 0.25 : 0.75\n",
    "\n",
    "x_train_tfidf, x_test_tfidf, y_train_tfidf, y_test_tfidf = train_test_split(bag_of_words_tfidf, data['sent'], random_state=42, test_size=0.25)\n"
   ]
  },
  {
   "cell_type": "code",
   "execution_count": 55,
   "id": "454e6398",
   "metadata": {},
   "outputs": [],
   "source": [
    "# object from Naiv Base\n",
    "model_tfidf=MultinomialNB()"
   ]
  },
  {
   "cell_type": "code",
   "execution_count": 56,
   "id": "81630a6e",
   "metadata": {},
   "outputs": [
    {
     "data": {
      "text/plain": [
       "array(['pos', 'pos', 'pos', ..., 'pos', 'pos', 'neg'], dtype='<U3')"
      ]
     },
     "execution_count": 56,
     "metadata": {},
     "output_type": "execute_result"
    }
   ],
   "source": [
    "# train model \n",
    "model_tfidf.fit(x_train_tfidf,y_train_tfidf)\n",
    "# test  model\n",
    "pred_tfidf = model_tfidf.predict(x_test_tfidf)\n",
    "pred_tfidf"
   ]
  },
  {
   "cell_type": "code",
   "execution_count": 57,
   "id": "a3898544",
   "metadata": {},
   "outputs": [
    {
     "name": "stdout",
     "output_type": "stream",
     "text": [
      "Model  had Trained and it's Accuracy:  0.7499477169745556\n"
     ]
    }
   ],
   "source": [
    "# accuracy precison\n",
    "accuracy = accuracy_score(y_test_tfidf,pred_tfidf) \n",
    "print(\"Model  had Trained and it's Accuracy: \", accuracy )"
   ]
  },
  {
   "cell_type": "code",
   "execution_count": 58,
   "id": "85600b31",
   "metadata": {},
   "outputs": [
    {
     "name": "stdout",
     "output_type": "stream",
     "text": [
      "              precision    recall  f1-score   support\n",
      "\n",
      "         neg       0.74      0.74      0.74      6893\n",
      "         pos       0.76      0.76      0.76      7452\n",
      "\n",
      "    accuracy                           0.75     14345\n",
      "   macro avg       0.75      0.75      0.75     14345\n",
      "weighted avg       0.75      0.75      0.75     14345\n",
      "\n"
     ]
    }
   ],
   "source": [
    "# our report about model after train and test \n",
    "print(classification_report(y_test_tfidf, pred_tfidf))"
   ]
  },
  {
   "cell_type": "code",
   "execution_count": 59,
   "id": "fb3499fa",
   "metadata": {},
   "outputs": [
    {
     "name": "stdout",
     "output_type": "stream",
     "text": [
      "[[5075 1818]\n",
      " [1769 5683]]\n"
     ]
    }
   ],
   "source": [
    "# confusion_matrix\n",
    "print(confusion_matrix(y_test_tfidf, pred_tfidf))"
   ]
  },
  {
   "cell_type": "code",
   "execution_count": 60,
   "id": "c7e7f074",
   "metadata": {},
   "outputs": [
    {
     "name": "stdout",
     "output_type": "stream",
     "text": [
      "              precision    recall  f1-score   support\n",
      "\n",
      "         neg       0.73      0.75      0.74      6893\n",
      "         pos       0.76      0.74      0.75      7452\n",
      "\n",
      "    accuracy                           0.74     14345\n",
      "   macro avg       0.74      0.74      0.74     14345\n",
      "weighted avg       0.75      0.74      0.74     14345\n",
      "\n"
     ]
    },
    {
     "data": {
      "text/html": [
       "<div>\n",
       "<style scoped>\n",
       "    .dataframe tbody tr th:only-of-type {\n",
       "        vertical-align: middle;\n",
       "    }\n",
       "\n",
       "    .dataframe tbody tr th {\n",
       "        vertical-align: top;\n",
       "    }\n",
       "\n",
       "    .dataframe thead tr th {\n",
       "        text-align: left;\n",
       "    }\n",
       "</style>\n",
       "<table border=\"1\" class=\"dataframe\">\n",
       "  <thead>\n",
       "    <tr>\n",
       "      <th></th>\n",
       "      <th></th>\n",
       "      <th colspan=\"2\" halign=\"left\">predicted</th>\n",
       "    </tr>\n",
       "    <tr>\n",
       "      <th></th>\n",
       "      <th></th>\n",
       "      <th>bad</th>\n",
       "      <th>good</th>\n",
       "    </tr>\n",
       "  </thead>\n",
       "  <tbody>\n",
       "    <tr>\n",
       "      <th rowspan=\"2\" valign=\"top\">actual</th>\n",
       "      <th>bad</th>\n",
       "      <td>5156</td>\n",
       "      <td>1737</td>\n",
       "    </tr>\n",
       "    <tr>\n",
       "      <th>good</th>\n",
       "      <td>1925</td>\n",
       "      <td>5527</td>\n",
       "    </tr>\n",
       "  </tbody>\n",
       "</table>\n",
       "</div>"
      ],
      "text/plain": [
       "            predicted      \n",
       "                  bad  good\n",
       "actual bad       5156  1737\n",
       "       good      1925  5527"
      ]
     },
     "execution_count": 60,
     "metadata": {},
     "output_type": "execute_result"
    }
   ],
   "source": [
    "# true fasle\n",
    "print(classification_report(y_test_bin, pred_bin))\n",
    "\n",
    "pd.DataFrame(\n",
    "    confusion_matrix(y_test_bin, pred_bin),\n",
    "    index = [['actual', 'actual'], ['bad', 'good']],\n",
    "    columns = [['predicted', 'predicted'], ['bad', 'good']])"
   ]
  },
  {
   "cell_type": "code",
   "execution_count": null,
   "id": "aec981f5",
   "metadata": {},
   "outputs": [],
   "source": []
  }
 ],
 "metadata": {
  "kernelspec": {
   "display_name": "Python 3 (ipykernel)",
   "language": "python",
   "name": "python3"
  },
  "language_info": {
   "codemirror_mode": {
    "name": "ipython",
    "version": 3
   },
   "file_extension": ".py",
   "mimetype": "text/x-python",
   "name": "python",
   "nbconvert_exporter": "python",
   "pygments_lexer": "ipython3",
   "version": "3.8.8"
  }
 },
 "nbformat": 4,
 "nbformat_minor": 5
}
